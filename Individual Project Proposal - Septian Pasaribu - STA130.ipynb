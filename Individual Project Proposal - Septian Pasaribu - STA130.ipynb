{
 "cells": [
  {
   "cell_type": "markdown",
   "id": "1e0411f8",
   "metadata": {},
   "source": [
    "## STA130 Individual Project Proposal\n",
    "\n",
    "### Analysis I: Household Income and Number of Close Friends\n",
    "\n",
    "**A. Research Question**\n",
    "\n",
    "Is there a difference in the average number of close friends among people with different household income levels? This question investigates whether socioeconomic status (household income) is related to social connectivity, which is an important component of well-being.\n",
    "\n",
    "**B. Variables**\n",
    "- Household Income (`DEMO_household_income`): Represents different income levels, which we’ll group into categories (e.g., low, middle, high).\n",
    "- Number of Close Friends (`CONNECTION_social_num_close_friends`): Indicates how many close social connections an individual has.\n",
    "\n",
    "A box plot of the number of close friends for each income group (e.g., low, middle, high) would help us see if certain income levels have more or fewer close friends. This plot shows the spread of close friends in each group and highlights any big differences between income levels. We can also look at a histogram of the total number of close friends across all groups, which would show how the number of close friends is spread out across everyone in the study.\n",
    "    \n",
    "**C. Analysis Method**\n",
    "\n",
    "We’ll calculate the mean number of close friends for each income group and construct 95% confidence intervals for these means. If the confidence intervals for different income groups don’t overlap, it may suggest a difference in social connections between income levels.\n",
    "    \n",
    "**D. Result Hypothesis**\n",
    "\n",
    "We expect that higher income is associated with a greater number of close friends. If the confidence intervals show non-overlapping ranges, this may indicate that income influences social connections, with higher-income individuals possibly having larger social networks. This would support the idea that financial stability may allow for more social interactions, addressing the prompt’s emphasis on social connections as part of well-being.\n",
    "\n",
    "### Analysis II: Community Activity Participation and Social Support\n",
    "\n",
    "**A. Research Question**\n",
    "\n",
    "Do people with higher social support participate in more community activities? This question looks at whether feeling supported by friends, family, or others might lead people to engage more in community events, which relates to the importance of social connection.\n",
    "\n",
    "**B. Variables**\n",
    "- Community Activity Frequency (`CONNECTION_activities_community_p3m`): The number of community activities a person attended in the last three months.\n",
    "- Social Support (`CONNECTION_social_support`): This measures how much support people feel from friends, family, or others.\n",
    "\n",
    "A box plot of activity frequency grouped by different levels of social support would show if people with higher support are more active in their communities and a bar chart of social support levels in the sample helps show the spread of support in our group and adds context.\n",
    "    \n",
    "**C. Analysis Method**\n",
    "\n",
    "To see if people with higher social support attend more community activities, we’ll find the average activity frequency for each level of social support and create 95% confidence intervals around these averages. If the confidence intervals for different support levels don’t overlap, this might mean that social support levels make a difference in community involvement.\n",
    "    \n",
    "**D. Result Hypothesis**\n",
    "\n",
    "We predict that people with higher social support will attend more community activities. If the confidence intervals for higher support levels show more activity, it would suggest that feeling supported encourages people to be more involved. This would highlight the importance of social networks in promoting engagement and well-being, fitting with the project’s focus on social connection as part of health.\n",
    "\n",
    "### Analysis III: Work Stress and Weekly Work Hours\n",
    "\n",
    "**A. Research Question**\n",
    "\n",
    "Is there a relationship between the number of hours worked per week and the level of work-related stress? This question investigates whether working longer hours leads to higher stress levels, which connects directly to well-being.\n",
    "\n",
    "**B. Variables**\n",
    "- Perceived Work Stress (`BELIEFS_rank_work_stress`): A measure of how stressed individuals feel due to work, providing insight into mental health and well-being.\n",
    "- Weekly Work Hours (`WORK_hours_per_week`): The average number of hours worked per week, indicating workload.\n",
    "\n",
    "A scatter plot with weekly work hours on the x-axis and work stress on the y-axis would help us see if people with more work hours tend to feel more stressed. This plot would show if there’s a pattern, like more hours leading to higher stress. We could also use a histogram to show the spread of work stress levels in the whole sample, giving a clearer view of how common different levels of work stress are.\n",
    "    \n",
    "**C. Analysis Method**\n",
    "\n",
    "We’ll use simple linear regression to examine the relationship between weekly work hours (independent variable) and work stress (dependent variable). Linear regression will allow us to see if there’s a statistically significant relationship and measure the strength of this association. \n",
    "    \n",
    "**D. Result Hypothesis**\n",
    "\n",
    "We expect higher weekly work hours will be associated with higher work stress. If we find a significant positive slope, this would support the idea that longer work hours lead to increased stress. This insight could support workplace policies that promote work-life balance, connecting directly to the prompt’s focus on well-being."
   ]
  },
  {
   "cell_type": "markdown",
   "id": "46fb5037",
   "metadata": {},
   "source": [
    "I want to be groupmates with Ziyue"
   ]
  }
 ],
 "metadata": {
  "kernelspec": {
   "display_name": "Python 3 (ipykernel)",
   "language": "python",
   "name": "python3"
  },
  "language_info": {
   "codemirror_mode": {
    "name": "ipython",
    "version": 3
   },
   "file_extension": ".py",
   "mimetype": "text/x-python",
   "name": "python",
   "nbconvert_exporter": "python",
   "pygments_lexer": "ipython3",
   "version": "3.11.6"
  }
 },
 "nbformat": 4,
 "nbformat_minor": 5
}
