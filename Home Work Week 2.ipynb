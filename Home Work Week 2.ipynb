{
 "cells": [
  {
   "cell_type": "markdown",
   "id": "390ab3de",
   "metadata": {},
   "source": [
    "# STA130 Homework 02"
   ]
  },
  {
   "cell_type": "markdown",
   "id": "0c43d046",
   "metadata": {},
   "source": [
    "# \"Pre-lecture\" HW [completion prior to next LEC is suggested but not mandatory]"
   ]
  },
  {
   "cell_type": "markdown",
   "id": "61d133d0",
   "metadata": {},
   "source": [
    "## 1. Begin (or restart) part \"3(a)\" of the TUT Demo and interact with a ChatBot to make sure you understand how each part the Monte Hall problem code above works"
   ]
  },
  {
   "cell_type": "markdown",
   "id": "afabbc78",
   "metadata": {},
   "source": [
    "## 2. Extend your ChatBot sessions to now address part \"3(b)\" of the TUT Demo and interact with your ChatBot to see if it can suggest a simpler, more streamlined way to code up this for loop simulation so the process is more clear and easier to understand; then, describe any preferences you have in terms of readibility or explainability between the original code and the code improvements suggested by the ChatBot"
   ]
  },
  {
   "cell_type": "markdown",
   "id": "b386b928",
   "metadata": {},
   "source": [
    "### Answer:\n",
    "\n",
    "In terms of readability or explanability, the code from ChatGPT is better than the original code because it is simpler and several lines of the original code can be compressed by ChatGPT into just one line of code which is also understandable."
   ]
  },
  {
   "cell_type": "markdown",
   "id": "d1f219c8",
   "metadata": {},
   "source": [
    "## 3. Submit your preferred version of the Monty Hall problem that is verified to be running and working with a final printed output of the code; then, add code comments explaining the purpose of each line of the code"
   ]
  },
  {
   "cell_type": "markdown",
   "id": "696c0dc4",
   "metadata": {},
   "source": [
    "### Answer:"
   ]
  },
  {
   "cell_type": "code",
   "execution_count": 2,
   "id": "afb65d10",
   "metadata": {},
   "outputs": [
    {
     "name": "stdout",
     "output_type": "stream",
     "text": [
      "Winning Probability by Switching: 0.6651\n"
     ]
    }
   ],
   "source": [
    "import numpy as np\n",
    "\n",
    "# Parameters\n",
    "reps = 100000  # Number of trials\n",
    "i_won = 0  # Counter for wins\n",
    "all_door_options = [1, 2, 3]  # Available doors\n",
    "\n",
    "for _ in range(reps):\n",
    "    # Randomly assign the winning door\n",
    "    winning_door = np.random.choice(all_door_options)\n",
    "    \n",
    "    # Player chooses a door (always starts by picking door 1)\n",
    "    my_door_choice = 1\n",
    "    \n",
    "    # Host reveals a losing door that is neither the player's choice nor the winning door\n",
    "    remaining_doors = [door for door in all_door_options if door != my_door_choice and door != winning_door]\n",
    "    host_reveal = np.random.choice(remaining_doors)\n",
    "    \n",
    "    # Player switches to the remaining door\n",
    "    switched_choice = [door for door in all_door_options if door != my_door_choice and door != host_reveal][0]\n",
    "    \n",
    "    # Check if the switch leads to a win\n",
    "    if switched_choice == winning_door:\n",
    "        i_won += 1\n",
    "\n",
    "# Probability of winning by switching\n",
    "probability_of_winning = i_won / reps\n",
    "print(f\"Winning Probability by Switching: {probability_of_winning}\")"
   ]
  },
  {
   "cell_type": "markdown",
   "id": "1b6d3ff6",
   "metadata": {},
   "source": [
    "### Summaries:\n",
    "\n",
    "1. **`try` and `except` in Python:**\n",
    "   - I explained the `try` and `except` syntax used for error handling. The `try` block contains code that may raise an exception, and the `except` block handles specific errors if they occur.\n",
    "   \n",
    "2. **Monty Hall Problem Simulation:**\n",
    "   - You shared a Monty Hall simulation code with 100,000 trials. I provided a more streamlined and simplified version focusing on clarity.\n",
    "   - The optimized version avoids manual list manipulation and simplifies the logic of the host's door reveal and player's door switch.\n",
    "\n",
    "3. **Explanation of List Comprehension:**\n",
    "   - I broke down a specific line of your code: `remaining_doors = [door for door in all_door_options if door != my_door_choice and door != winning_door]`.\n",
    "   - I explained how it filters out doors that the player chose and the winning door to determine which doors the host can reveal.\n",
    "\n",
    "## ChatGPT's Link : https://chatgpt.com/share/66eb9dda-bd18-800a-a031-4e0de84b44cb"
   ]
  },
  {
   "cell_type": "markdown",
   "id": "b3329b96",
   "metadata": {},
   "source": [
    "### 4. Watch the embedded video tutorial on Markov chains in the next Jupyter cell below to understand their application and relevance for ChatBots; then, after watching the video, start a new ChatBot session by prompting that you have code that creates a \"Markovian ChatBot\"; show it the first version of the \"Markovian ChatBot code\" below; and interact with the ChatBot session to make sure you understand how the original first version of the \"Markovian ChatBot code\" works"
   ]
  },
  {
   "cell_type": "markdown",
   "id": "ebaba450",
   "metadata": {},
   "source": [
    "### Answer:"
   ]
  },
  {
   "cell_type": "code",
   "execution_count": null,
   "id": "5fa0c655",
   "metadata": {},
   "outputs": [],
   "source": [
    "# Markov Chains and Text Generation\n",
    "from IPython.display import YouTubeVideo\n",
    "YouTubeVideo('56mGTszb_iM', width = 550)"
   ]
  },
  {
   "cell_type": "markdown",
   "id": "32de664a",
   "metadata": {},
   "source": [
    "### Summary:\n",
    "\n",
    "- **`word_used`**: This dictionary counts how often each word appears in the input list (`words`).\n",
    "  \n",
    "- **`next_word`**: This is a nested dictionary that stores how often each word follows another word. It tracks transitions between words to build a Markov chain.\n",
    "\n",
    "- **Main Loop**: For each word in the list (except the last one):\n",
    "  - It increments the count for the current word in `word_used`.\n",
    "  - It tracks the frequency of the next word (`words[i+1]`) in `next_word` to record how often it follows the current word.\n",
    "\n",
    "This structure enables generating sentences based on the probability of word transitions, a key concept in Markov models.\n",
    "\n",
    "### ChatGPT's Link : https://chatgpt.com/share/66ec27b0-6534-800a-9980-264fac96619b"
   ]
  },
  {
   "cell_type": "markdown",
   "id": "2f7db4f5",
   "metadata": {},
   "source": [
    "# \"Post-lecture\" HW [submission along with \"Pre-lecture\" HW is due prior to next TUT]"
   ]
  },
  {
   "cell_type": "markdown",
   "id": "4e65e1ee",
   "metadata": {},
   "source": [
    "## 5. Recreate (or resume) the previous ChatBot session from question \"4\" above, and now prompt the ChatBot session that you have a couple extensions of the code to show it, and then show it each of the extentions of the \"Markovian ChatBot code\" below in turn"
   ]
  },
  {
   "cell_type": "markdown",
   "id": "11b83922",
   "metadata": {},
   "source": [
    "### 1. Without just supplying your ChatBot session with the answers, see if the ChatBot can figure out what the extensions in the code do; namely, making character specific Markov chains, and using bigrams (rather than just the previous word alone) dependency... prompt your ChatBot session with some hints if it's not seeming to \"get it\""
   ]
  },
  {
   "cell_type": "markdown",
   "id": "abe04a45",
   "metadata": {},
   "source": [
    "### 2. Interact with your ChatBot session to have it explain details of the code wherever you need help understanding what the code is doing and how it works"
   ]
  },
  {
   "cell_type": "markdown",
   "id": "078e45d1",
   "metadata": {},
   "source": [
    "### Summary:\n",
    "1. **Markovian Chatbot**: \n",
    "   - You shared multiple versions of code for a Markovian chatbot.\n",
    "   - I explained how each part of the code works, focusing on how **bigrams** (two-word combinations) and **trigrams** (three-word sequences) are built to model word transitions.\n",
    "\n",
    "2. **Code Extensions**:\n",
    "   - **Extension 1**: This version counted how often two-word combinations occur and tracked the next word after them (trigram generation).\n",
    "   - **Extension 2**: This added character-specific modeling, where the chatbot learns unique word sequences for each character in a dataset, personalizing responses based on character-specific dialogue patterns.\n",
    "\n",
    "3. **Key Concepts Explained**:\n",
    "   - `defaultdict` usage for automatic initialization.\n",
    "   - How loops and dictionary structures are used to build bigram and trigram models.\n",
    "   - How the code tracks word sequences, associating them with specific characters.\n",
    "\n",
    "The overall focus was on how the chatbot models word transitions and learns from character dialogue to generate personalized text.\n",
    "### ChatGPT's Link: https://chatgpt.com/share/66ec27b0-6534-800a-9980-264fac96619b"
   ]
  },
  {
   "cell_type": "markdown",
   "id": "8d32185b",
   "metadata": {},
   "source": [
    "### 3. Start yet another new ChatBot session and first show the ChatBot the original \"Markovian ChatBot code\" below, and then tell ChatBot that you have an extension but this time just directly provide it the more complicated final extension without ever providing the intermediate extension code to the ChatBot session and see if it's still able to understand everything extension does; namely, making character specific Markov chains, and using bigrams (rather than just the previous word alone) dependency... prompt the ChatBot with some hints if it's not seeming to understand what you're getting at..."
   ]
  },
  {
   "cell_type": "markdown",
   "id": "c7e890a9",
   "metadata": {},
   "source": [
    "### Summary:\n",
    "1. **Basic Markovian Chatbot Code**: \n",
    "   - You shared a code snippet that builds a Markov model to track word frequencies and transitions between consecutive words. The model stores how often each word occurs and the probability of transitioning to the next word.\n",
    "\n",
    "2. **Extended Markovian Chatbot Code**:\n",
    "   - You then shared an extension that tracks word usage and transitions specifically for characters from a dataset. This extended model uses two-word phrases and builds character-specific transitions, making it more context-aware and sophisticated.\n",
    "\n",
    "3. **Detailed Explanations**:\n",
    "   - I provided explanations for both snippets, breaking down the logic of how they track word frequencies, transitions between words and phrases, and how they incorporate character-specific data from a dataset.\n",
    "\n",
    "This conversation focused on building and understanding a Markov-based chatbot with an extension to handle character-based responses using two-word phrases for better context.\n",
    "### ChatGPT's Link: https://chatgpt.com/share/66eca5ef-ad40-800a-a44d-a789d5028623"
   ]
  },
  {
   "cell_type": "markdown",
   "id": "f8be5adc",
   "metadata": {},
   "source": [
    "## 6. Report on your experience interacting with ChatBots to understand the Monte Hall problem and \"Markovian ChatBot\" code"
   ]
  },
  {
   "cell_type": "markdown",
   "id": "34691e64",
   "metadata": {},
   "source": [
    "### 1. Discuss how quickly the ChatBot was able to be helpful for each of the above questions, and if so, how?"
   ]
  },
  {
   "cell_type": "markdown",
   "id": "0dd2f92e",
   "metadata": {},
   "source": [
    "### Answer:\n",
    "It is very fast. The ChatBot takes just 1-2 seconds to give me the correct answer to each of my questions. When I asked the ChatBot to provide an explanation of several lines of code, it explained to me all the details of the syntax function as well as the algorithm."
   ]
  },
  {
   "cell_type": "markdown",
   "id": "df232b72",
   "metadata": {},
   "source": [
    "### 2. Discuss whether or not interacting with ChatBot to try to figure things out was frustrating or unhelpful, and if so, how?"
   ]
  },
  {
   "cell_type": "markdown",
   "id": "dbac3d9a",
   "metadata": {},
   "source": [
    "### Answer:\n",
    "No, it is very helpful and can make my work more efficient since I can understand a code I want to understand faster than the usual."
   ]
  },
  {
   "cell_type": "markdown",
   "id": "c9ba9619",
   "metadata": {},
   "source": [
    "### 3. Based on your experiences to date (e.g., including using ChatBots to troubleshoot coding errors in the previous homework), provide an overall assessment evaluating the usefulness of ChatBots as tools to help you understand code"
   ]
  },
  {
   "cell_type": "markdown",
   "id": "95ede36d",
   "metadata": {},
   "source": [
    "### Answer:\n",
    "ChatBot is very useful for me personally because when I want to understand a code, I can ask ChatBot to provide a detailed and clear explanation of that code and ChatBot gives me the answer in just a very short time. This makes my work more efficient because by using ChatBot, I can save a lot of time."
   ]
  },
  {
   "cell_type": "markdown",
   "id": "b0070bab",
   "metadata": {},
   "source": [
    "## 7. Reflect on your experience interacting with ChatBot and describe how your perception of AI-driven assistance tools in the context of learning coding, statistics, and data science has been evolving (or not) since joining the course"
   ]
  },
  {
   "cell_type": "markdown",
   "id": "c858da80",
   "metadata": {},
   "source": [
    "### Answer:\n",
    "Learning coding and statistics was really fun with ChatBot because it gave me a lot of help whenever I got stuck in learning it. Since taking this course, I think AI-driven assistance tools are the most valuable tools people can have because of their easy accessibility and the correct answers it provides."
   ]
  },
  {
   "cell_type": "markdown",
   "id": "549bfcd9",
   "metadata": {},
   "source": [
    "## 8. ChatBots consume text data available on the web or platforms, and thus represents a new way to \"search consensensus\" that condenses and summarizes mainstream human thought"
   ]
  },
  {
   "cell_type": "markdown",
   "id": "c16920d4",
   "metadata": {},
   "source": [
    "### 1. Start a new ChatBot session and discuss the relevance of learning and adaptability, communication, coding, and statistics and data analysis as skills in the modern world, especially with respect to career opportunities (particularly in the context of the data science industry)"
   ]
  },
  {
   "cell_type": "markdown",
   "id": "579280cc",
   "metadata": {},
   "source": [
    "### Answer:\n",
    "Data science careers favor those who excel in these areas. The field is competitive, and professionals with a strong grasp of these skills have an advantage. Typical data science positions require a blend of these abilities, whether for developing AI models, handling large datasets, or communicating findings to executives."
   ]
  },
  {
   "cell_type": "markdown",
   "id": "afb89ed7",
   "metadata": {},
   "source": [
    "### 2. See if ChatBot thinks you could be a statistician or data scientist without coding or doing data analysis, and then transition your ChatBot conversation into a career exploration discussion, using the ChatBot to identify the skills that might be the most valuable for a career that you're interested"
   ]
  },
  {
   "cell_type": "markdown",
   "id": "1bbd47c3",
   "metadata": {},
   "source": [
    "### Answer:\n",
    "Coding and data analysis skills are generally important for statisticians and data scientists. However, some data-related positions place less emphasis on coding. If someone pursue either career path, developing at least basic coding and data analysis skills will improve his job prospects significantly."
   ]
  },
  {
   "cell_type": "markdown",
   "id": "767863b3",
   "metadata": {},
   "source": [
    "### 3. Ask for a summary of this ChatBot session and paste it into your homework notebook (including link(s) to chat log histories if you're using ChatBot)"
   ]
  },
  {
   "cell_type": "markdown",
   "id": "754f71ad",
   "metadata": {},
   "source": [
    "### Answer:\n",
    "### Summary:\n",
    "\n",
    "### Skills for Data Science:\n",
    "- **Learning and Adaptability:** Essential due to the rapidly evolving nature of data science technologies.\n",
    "- **Communication:** Crucial for explaining complex data findings to non-technical stakeholders.\n",
    "- **Coding:** Required for data manipulation, model building, and workflow automation (languages like Python, R, and SQL).\n",
    "- **Statistics and Data Analysis:** Foundational for accurate data interpretation and making informed decisions.\n",
    "\n",
    "### Can You Be a Statistician or Data Scientist Without Coding or Data Analysis?\n",
    "- **Statisticians** may find roles with less coding (using software like SPSS or SAS), but modern roles often require at least basic coding skills.\n",
    "- **Data scientists** almost always need coding and data analysis skills, as these are core aspects of the job.\n",
    "  \n",
    "### Alternatives with Less Coding:\n",
    "- **Data Analyst:** Basic coding with SQL and focus on analysis and visualization.\n",
    "- **Data Visualization Expert:** Limited coding, focused on creating visual stories from data.\n",
    "- **Business Analyst or Subject Matter Expert:** Less technical, more strategy-focused, but still requires interpreting data results.\n",
    "\n",
    "In short, coding and data analysis are critical for statisticians and data scientists, but there are related roles that involve lighter coding if you prefer.\n",
    "\n",
    "### ChatGPT's Link : https://chatgpt.com/share/66ecc801-8ec4-800a-a774-e3edae39f98c"
   ]
  },
  {
   "cell_type": "markdown",
   "id": "dd98fa6f",
   "metadata": {},
   "source": [
    "### 4. Paraphrase the assessments and conclusions of your conversation in the form of a reflection on your current thoughts regarding your potential future career(s) and how you can go about building the skills you need to pursue it"
   ]
  },
  {
   "cell_type": "markdown",
   "id": "ab650926",
   "metadata": {},
   "source": [
    "### Answer:\n",
    "As I consider a career in data science, I see that it requires a diverse set of skills. Continuous learning is key in this rapidly evolving field. I need to focus on developing strong data analysis and coding skills, as these are essential for most data science roles. Python, R, and SQL seem to be particularly important.\n",
    "I can’t underestimate the importance of communication skills — explaining complex findings to non-technical stakeholders is essential. Knowledge of statistics is also essential for accurate data interpretation.\n",
    "Moving forward, I plan to:\n",
    "\n",
    "1. Practice on real-world data sets\n",
    "2. Work on projects to improve my communication of technical concepts\n",
    "3. Stay up-to-date on industry trends\n",
    "\n",
    "While challenging, even basic proficiency in this field can open doors. By focusing on these key skills and maintaining a learning mindset, I can work toward becoming an effective data scientist."
   ]
  },
  {
   "cell_type": "markdown",
   "id": "c1d742b7",
   "metadata": {},
   "source": [
    "### 5. Give your thoughts regarding the helpfulness or limitations of your conversation with a ChatBot, and describe the next steps you would take to pursue this conversation further if you felt the information the ChatBot provides was somewhat high level and general, and perhaps lacked the depth and detailed knowledge of a dedicated subject matter expert who had really take the time to understand the ins and outs of the industry and career path in question."
   ]
  },
  {
   "cell_type": "markdown",
   "id": "ec6cccc9",
   "metadata": {},
   "source": [
    "### Answer:\n",
    "Chatbots are great for quick reviews and idea generation, but they often don’t provide in-depth information, insider knowledge, or personalized advice. To gain deeper insights, I would focus on my specific knowledge gaps and reach out to industry professionals for connections and informational interviews. That step would help me gain practical and up-to-date knowledge that goes beyond what a chatbot can offer, giving me a better understanding of the industry or career path I choose."
   ]
  },
  {
   "cell_type": "markdown",
   "id": "5e5a21f9",
   "metadata": {},
   "source": [
    "## 9. Have you reviewed the course wiki-textbook and interacted with a ChatBot (or, if that wasn't sufficient, real people in the course piazza discussion board or TA office hours) to help you understand all the material in the tutorial and lecture that you didn't quite follow when you first saw it?"
   ]
  },
  {
   "cell_type": "markdown",
   "id": "f46240db",
   "metadata": {},
   "source": [
    "### Answer:\n",
    "Yes"
   ]
  }
 ],
 "metadata": {
  "kernelspec": {
   "display_name": "Python 3 (ipykernel)",
   "language": "python",
   "name": "python3"
  },
  "language_info": {
   "codemirror_mode": {
    "name": "ipython",
    "version": 3
   },
   "file_extension": ".py",
   "mimetype": "text/x-python",
   "name": "python",
   "nbconvert_exporter": "python",
   "pygments_lexer": "ipython3",
   "version": "3.11.6"
  }
 },
 "nbformat": 4,
 "nbformat_minor": 5
}
